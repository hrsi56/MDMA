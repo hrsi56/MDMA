{
 "cells": [
  {
   "cell_type": "code",
   "id": "initial_id",
   "metadata": {
    "collapsed": true,
    "ExecuteTime": {
     "end_time": "2025-05-26T19:26:57.579159Z",
     "start_time": "2025-05-26T19:26:57.571608Z"
    }
   },
   "source": [
    "import pandas as pd\n",
    "import os\n",
    "\n",
    "def process_all_condition_files(folder_path, groups_csv_filename, output_csv_filename):\n",
    "    # קריאת טבלת קבוצות\n",
    "    groups_df = pd.read_csv(os.path.join(folder_path, groups_csv_filename))\n",
    "    groups_df.columns = [\"Rat\", \"Group\"]\n",
    "\n",
    "    # קבצי CSV בתיקייה, למעט קובץ הקבוצות\n",
    "    csv_files = [f for f in os.listdir(folder_path) if f.endswith('.csv') and f != groups_csv_filename]\n",
    "\n",
    "    master_df = None\n",
    "\n",
    "    for file_name in csv_files:\n",
    "        file_path = os.path.join(folder_path, file_name)\n",
    "        condition = os.path.splitext(file_name)[0]\n",
    "        print(f\"מעבד קובץ: {file_name}\")\n",
    "\n",
    "        df = pd.read_csv(file_path, header=None, names=[\"ID\", \"Score\"])\n",
    "\n",
    "        # סינון שורות עם מבנה ID תקני (2 נקודות בדיוק)\n",
    "        df = df[df[\"ID\"].str.count(r\"\\.\") == 2].copy()\n",
    "\n",
    "        # פיצול ID לשלושה חלקים\n",
    "        split_cols = df[\"ID\"].str.split(\".\", expand=True)\n",
    "        if split_cols.shape[1] != 3:\n",
    "            print(f\"שורה בעייתית בקובץ {file_name} - דילוג\")\n",
    "            continue\n",
    "\n",
    "        df[[\"Rat\", \"Slide\", \"Index\"]] = split_cols\n",
    "        df = df.dropna(subset=[\"Rat\", \"Slide\", \"Index\"])\n",
    "        df[\"Rat\"] = pd.to_numeric(df[\"Rat\"], errors=\"coerce\")\n",
    "        df = df.dropna(subset=[\"Rat\"])\n",
    "        df[\"Rat\"] = df[\"Rat\"].astype(int)\n",
    "        df[\"Score\"] = pd.to_numeric(df[\"Score\"], errors=\"coerce\")\n",
    "\n",
    "        df = df.sort_values(by=[\"Rat\", \"Slide\", \"Index\"])\n",
    "        df[\"Measurement\"] = df.groupby(\"Rat\").cumcount() + 1\n",
    "\n",
    "        pivot = df.pivot_table(index=\"Rat\", columns=\"Measurement\", values=\"Score\", aggfunc=\"first\")\n",
    "        pivot.columns = [f\"{condition}{i}\" for i in pivot.columns]\n",
    "        pivot.reset_index(inplace=True)\n",
    "        pivot[f\"{condition}.mean()\"] = pivot.loc[:, pivot.columns.str.startswith(condition)].mean(axis=1)\n",
    "\n",
    "        if master_df is None:\n",
    "            master_df = pivot\n",
    "        else:\n",
    "            master_df = pd.merge(master_df, pivot, on=\"Rat\", how=\"outer\")\n",
    "\n",
    "    # חיבור לקבוצות\n",
    "    final_df = pd.merge(groups_df, master_df, on=\"Rat\", how=\"right\")\n",
    "    final_df.rename(columns={\"Rat\": \"מספר חולדה\", \"Group\": \"קבוצה\"}, inplace=True)\n",
    "\n",
    "    # שמירה\n",
    "    output_path = os.path.join(folder_path, output_csv_filename)\n",
    "    final_df.to_csv(output_path, index=False)\n",
    "    return final_df\n",
    "\n",
    "\n",
    "\n",
    "\n"
   ],
   "outputs": [],
   "execution_count": 24
  },
  {
   "metadata": {
    "ExecuteTime": {
     "end_time": "2025-05-26T19:26:59.391593Z",
     "start_time": "2025-05-26T19:26:59.343632Z"
    }
   },
   "cell_type": "code",
   "source": [
    "\n",
    "# הרצה עם קבצים שהועלו\n",
    "folder_path = \"/Users/djourno/PyCharm/MDMA\"\n",
    "groups_csv_filename = \"groups.csv\"\n",
    "output_csv_filename = \"Brains.csv\"\n",
    "\n",
    "final_df = process_all_condition_files(folder_path, groups_csv_filename, output_csv_filename)\n"
   ],
   "id": "5b635bebcf8ca2db",
   "outputs": [
    {
     "name": "stdout",
     "output_type": "stream",
     "text": [
      "מעבד קובץ: BDNF_CA3.csv\n",
      "מעבד קובץ: BDNF_CA1.csv\n",
      "מעבד קובץ: TPH2.csv\n",
      "מעבד קובץ: Oxy.csv\n",
      "מעבד קובץ: BDNF_RAPHE.csv\n",
      "מעבד קובץ: GR.csv\n",
      "מעבד קובץ: DG_GOLGI.csv\n",
      "מעבד קובץ: BDNF_PVN.csv\n"
     ]
    }
   ],
   "execution_count": 25
  },
  {
   "metadata": {},
   "cell_type": "code",
   "outputs": [],
   "execution_count": null,
   "source": "",
   "id": "9a07074fbd9d13f5"
  }
 ],
 "metadata": {
  "kernelspec": {
   "display_name": "Python 3",
   "language": "python",
   "name": "python3"
  },
  "language_info": {
   "codemirror_mode": {
    "name": "ipython",
    "version": 2
   },
   "file_extension": ".py",
   "mimetype": "text/x-python",
   "name": "python",
   "nbconvert_exporter": "python",
   "pygments_lexer": "ipython2",
   "version": "2.7.6"
  }
 },
 "nbformat": 4,
 "nbformat_minor": 5
}
